{
 "cells": [
  {
   "cell_type": "code",
   "execution_count": 1,
   "id": "22fc519f",
   "metadata": {},
   "outputs": [],
   "source": [
    "#while True:\n",
    "    #print(\"Merhaba Veri Bilimi Uzmanlığı Ekibi\")"
   ]
  },
  {
   "cell_type": "code",
   "execution_count": 2,
   "id": "5bdfcd86",
   "metadata": {},
   "outputs": [
    {
     "name": "stdout",
     "output_type": "stream",
     "text": [
      "The count is: 0\n",
      "The count is: 1\n",
      "The count is: 2\n",
      "The count is: 3\n",
      "The count is: 4\n",
      "The count is: 5\n",
      "The count is: 6\n",
      "The count is: 7\n",
      "The count is: 8\n",
      "Bye bye!\n"
     ]
    }
   ],
   "source": [
    "\"\"\"\n",
    "-Şart kontrollü - while\n",
    "-Sayma kontrollü - for\n",
    "\"\"\"\n",
    "count = 0\n",
    "while(count < 9):\n",
    "    print('The count is:', count)\n",
    "    count = count + 1\n",
    "print('Bye bye!')"
   ]
  },
  {
   "cell_type": "code",
   "execution_count": 3,
   "id": "754cf85e",
   "metadata": {},
   "outputs": [
    {
     "name": "stdout",
     "output_type": "stream",
     "text": [
      "0 is less than 5\n",
      "1 is less than 5\n",
      "2 is less than 5\n",
      "3 is less than 5\n",
      "4 is less than 5\n",
      "5 is not less than 5\n"
     ]
    }
   ],
   "source": [
    "mycount = 0\n",
    "while mycount < 5:\n",
    "    print(mycount, \"is less than 5\")\n",
    "    mycount = mycount + 1\n",
    "else:\n",
    "    print(mycount, \"is not less than 5\")"
   ]
  },
  {
   "cell_type": "code",
   "execution_count": 4,
   "id": "17ed009f",
   "metadata": {},
   "outputs": [
    {
     "name": "stdout",
     "output_type": "stream",
     "text": [
      "Current Letter : P\n",
      "Current Letter : y\n",
      "Current Letter : t\n",
      "Current Letter : h\n",
      "Current Letter : o\n",
      "Current Letter : n\n"
     ]
    }
   ],
   "source": [
    "for letter in 'Python':\n",
    "    print('Current Letter :', letter)"
   ]
  },
  {
   "cell_type": "code",
   "execution_count": 5,
   "id": "6bde26f5",
   "metadata": {},
   "outputs": [
    {
     "name": "stdout",
     "output_type": "stream",
     "text": [
      "Current Fruit: banana\n",
      "Current Fruit: apple\n",
      "Current Fruit: mango\n",
      "Bye Bye!\n"
     ]
    }
   ],
   "source": [
    "fruits = ['banana', 'apple', 'mango']\n",
    "for fruit in fruits:\n",
    "    print('Current Fruit:', fruit)\n",
    "    \n",
    "print('Bye Bye!')"
   ]
  },
  {
   "cell_type": "code",
   "execution_count": 6,
   "id": "97070446",
   "metadata": {},
   "outputs": [
    {
     "name": "stdout",
     "output_type": "stream",
     "text": [
      "1 * 1 = 1\n",
      "1 * 2 = 2\n",
      "1 * 3 = 3\n",
      "1 * 4 = 4\n",
      "1 * 5 = 5\n",
      "1 * 6 = 6\n",
      "1 * 7 = 7\n",
      "1 * 8 = 8\n",
      "1 * 9 = 9\n",
      "1 * 10 = 10\n",
      "2 * 1 = 2\n",
      "2 * 2 = 4\n",
      "2 * 3 = 6\n",
      "2 * 4 = 8\n",
      "2 * 5 = 10\n",
      "2 * 6 = 12\n",
      "2 * 7 = 14\n",
      "2 * 8 = 16\n",
      "2 * 9 = 18\n",
      "2 * 10 = 20\n",
      "3 * 1 = 3\n",
      "3 * 2 = 6\n",
      "3 * 3 = 9\n",
      "3 * 4 = 12\n",
      "3 * 5 = 15\n",
      "3 * 6 = 18\n",
      "3 * 7 = 21\n",
      "3 * 8 = 24\n",
      "3 * 9 = 27\n",
      "3 * 10 = 30\n",
      "4 * 1 = 4\n",
      "4 * 2 = 8\n",
      "4 * 3 = 12\n",
      "4 * 4 = 16\n",
      "4 * 5 = 20\n",
      "4 * 6 = 24\n",
      "4 * 7 = 28\n",
      "4 * 8 = 32\n",
      "4 * 9 = 36\n",
      "4 * 10 = 40\n",
      "5 * 1 = 5\n",
      "5 * 2 = 10\n",
      "5 * 3 = 15\n",
      "5 * 4 = 20\n",
      "5 * 5 = 25\n",
      "5 * 6 = 30\n",
      "5 * 7 = 35\n",
      "5 * 8 = 40\n",
      "5 * 9 = 45\n",
      "5 * 10 = 50\n",
      "6 * 1 = 6\n",
      "6 * 2 = 12\n",
      "6 * 3 = 18\n",
      "6 * 4 = 24\n",
      "6 * 5 = 30\n",
      "6 * 6 = 36\n",
      "6 * 7 = 42\n",
      "6 * 8 = 48\n",
      "6 * 9 = 54\n",
      "6 * 10 = 60\n",
      "7 * 1 = 7\n",
      "7 * 2 = 14\n",
      "7 * 3 = 21\n",
      "7 * 4 = 28\n",
      "7 * 5 = 35\n",
      "7 * 6 = 42\n",
      "7 * 7 = 49\n",
      "7 * 8 = 56\n",
      "7 * 9 = 63\n",
      "7 * 10 = 70\n",
      "8 * 1 = 8\n",
      "8 * 2 = 16\n",
      "8 * 3 = 24\n",
      "8 * 4 = 32\n",
      "8 * 5 = 40\n",
      "8 * 6 = 48\n",
      "8 * 7 = 56\n",
      "8 * 8 = 64\n",
      "8 * 9 = 72\n",
      "8 * 10 = 80\n",
      "9 * 1 = 9\n",
      "9 * 2 = 18\n",
      "9 * 3 = 27\n",
      "9 * 4 = 36\n",
      "9 * 5 = 45\n",
      "9 * 6 = 54\n",
      "9 * 7 = 63\n",
      "9 * 8 = 72\n",
      "9 * 9 = 81\n",
      "9 * 10 = 90\n",
      "10 * 1 = 10\n",
      "10 * 2 = 20\n",
      "10 * 3 = 30\n",
      "10 * 4 = 40\n",
      "10 * 5 = 50\n",
      "10 * 6 = 60\n",
      "10 * 7 = 70\n",
      "10 * 8 = 80\n",
      "10 * 9 = 90\n",
      "10 * 10 = 100\n"
     ]
    }
   ],
   "source": [
    "for x in range(1, 11):\n",
    "    for y in range(1, 11):\n",
    "        print('%d * %d = %d' % (x, y, x*y))"
   ]
  },
  {
   "cell_type": "code",
   "execution_count": 7,
   "id": "497e37cb",
   "metadata": {},
   "outputs": [
    {
     "name": "stdout",
     "output_type": "stream",
     "text": [
      "X is now:  -20\n",
      "Value of x : -19\n",
      "Value of x : -18\n",
      "Value of x : -17\n",
      "Value of x : -16\n",
      "Value of x : -15\n",
      "Value of x : -14\n",
      "Value of x : -13\n",
      "Value of x : -12\n",
      "Value of x : -11\n",
      "Value of x : -10\n",
      "Value of x : -9\n",
      "Value of x : -8\n",
      "Value of x : -7\n",
      "Value of x : -6\n",
      "Value of x : -5\n",
      "Value of x : -4\n",
      "Value of x : -3\n",
      "Value of x : -2\n",
      "Value of x : -1\n",
      "X is now:  0\n",
      "X is now:  1\n",
      "X is now:  2\n",
      "X is now:  3\n",
      "X is now:  4\n",
      "X is now:  5\n",
      "X is now:  6\n",
      "X is now:  7\n",
      "X is now:  8\n",
      "X is now:  9\n",
      "X is now:  10\n",
      "X is now:  11\n",
      "X is now:  12\n",
      "X is now:  13\n",
      "X is now:  14\n",
      "X is now:  15\n",
      "X is now:  16\n",
      "X is now:  17\n",
      "X is now:  18\n",
      "X is now:  19\n",
      "X is now:  20\n"
     ]
    }
   ],
   "source": [
    "x = -20\n",
    "y = 20\n",
    "while x <= y:\n",
    "    print(\"X is now: \", x)\n",
    "    x = x + 1\n",
    "    while x < 0:\n",
    "        print('Value of x :', x)\n",
    "        x = x + 1"
   ]
  },
  {
   "cell_type": "code",
   "execution_count": 8,
   "id": "1e585c1a",
   "metadata": {},
   "outputs": [
    {
     "name": "stdout",
     "output_type": "stream",
     "text": [
      "Barcelona\n",
      "Real Madrid\n"
     ]
    }
   ],
   "source": [
    "#Fonksiyonlar\n",
    "#definition (tanım)\n",
    "def myprint(s1): #s1 parametredir\n",
    "    print(s1)\n",
    "    \n",
    "#call (çağrı)\n",
    "myprint(\"Barcelona\") #Barcelona argümandır\n",
    "myprint(\"Real Madrid\")"
   ]
  },
  {
   "cell_type": "code",
   "execution_count": 9,
   "id": "dde72125",
   "metadata": {},
   "outputs": [
    {
     "name": "stdout",
     "output_type": "stream",
     "text": [
      "8\n",
      "3\n"
     ]
    }
   ],
   "source": [
    "def Fun(x, y):\n",
    "    result = x + y\n",
    "    return result\n",
    "\n",
    "print(Fun(5, 3))\n",
    "print(Fun(2, 1))"
   ]
  },
  {
   "cell_type": "code",
   "execution_count": 10,
   "id": "51eb846d",
   "metadata": {},
   "outputs": [
    {
     "name": "stdout",
     "output_type": "stream",
     "text": [
      "Name :  Tasmanian Devil\n",
      "Age :  19\n",
      "Name :  Bugs Bunny\n",
      "Age :  23\n"
     ]
    }
   ],
   "source": [
    "#default parametre\n",
    "def printinfo(name, age = 23):\n",
    "    print(\"Name : \", name)\n",
    "    print(\"Age : \", age)\n",
    "    \n",
    "printinfo(age = 19, name = \"Tasmanian Devil\")\n",
    "printinfo(name = \"Bugs Bunny\")"
   ]
  },
  {
   "cell_type": "code",
   "execution_count": 11,
   "id": "4064d5c0",
   "metadata": {},
   "outputs": [
    {
     "name": "stdout",
     "output_type": "stream",
     "text": [
      "82\n",
      "50\n"
     ]
    }
   ],
   "source": [
    "from random import randint\n",
    "print(randint(0, 100))\n",
    "\n",
    "import random as rm\n",
    "print(rm.randint(0, 100))"
   ]
  },
  {
   "cell_type": "code",
   "execution_count": 12,
   "id": "21f42808",
   "metadata": {},
   "outputs": [
    {
     "name": "stdout",
     "output_type": "stream",
     "text": [
      "randrange(100, 1000, 2) : 624\n",
      "randrange(100, 1000, 3) : 250\n"
     ]
    }
   ],
   "source": [
    "import random\n",
    "print(\"randrange(100, 1000, 2) :\", random.randrange(100, 1000, 2))\n",
    "print(\"randrange(100, 1000, 3) :\", random.randrange(100, 1000, 3))"
   ]
  },
  {
   "cell_type": "code",
   "execution_count": 13,
   "id": "79bdec23",
   "metadata": {},
   "outputs": [
    {
     "name": "stdout",
     "output_type": "stream",
     "text": [
      "51.456930131897536\n",
      "29.63660519087054\n"
     ]
    }
   ],
   "source": [
    "print(rm.uniform(18, 81))\n",
    "print(rm.uniform(19, 38))"
   ]
  },
  {
   "cell_type": "code",
   "execution_count": 14,
   "id": "9369f305",
   "metadata": {},
   "outputs": [
    {
     "name": "stdout",
     "output_type": "stream",
     "text": [
      "3.141592653589793\n"
     ]
    }
   ],
   "source": [
    "from math import pi\n",
    "print(pi)"
   ]
  },
  {
   "cell_type": "code",
   "execution_count": 15,
   "id": "822bced0",
   "metadata": {},
   "outputs": [
    {
     "name": "stdout",
     "output_type": "stream",
     "text": [
      "28.274333882308138\n"
     ]
    }
   ],
   "source": [
    "import math\n",
    "def area_of_circle(r):\n",
    "    a = r**2 * math.pi\n",
    "    return a\n",
    "print(area_of_circle(3))"
   ]
  },
  {
   "cell_type": "code",
   "execution_count": 16,
   "id": "57c31862",
   "metadata": {},
   "outputs": [],
   "source": [
    "#Lambda, Filter, Map, Reduce"
   ]
  },
  {
   "cell_type": "code",
   "execution_count": 17,
   "id": "13f6f0ac",
   "metadata": {},
   "outputs": [
    {
     "name": "stdout",
     "output_type": "stream",
     "text": [
      "15\n"
     ]
    }
   ],
   "source": [
    "#lambda num1, num2 : num1 + num2\n",
    "addition = lambda a : a + 10\n",
    "print(addition(5))"
   ]
  },
  {
   "cell_type": "code",
   "execution_count": 18,
   "id": "1f6dec6e",
   "metadata": {},
   "outputs": [
    {
     "name": "stdout",
     "output_type": "stream",
     "text": [
      "30\n"
     ]
    }
   ],
   "source": [
    "product = lambda a, b : a * b\n",
    "print(product(5, 6))"
   ]
  },
  {
   "cell_type": "code",
   "execution_count": 19,
   "id": "b7d9ec15",
   "metadata": {},
   "outputs": [
    {
     "name": "stdout",
     "output_type": "stream",
     "text": [
      "13\n"
     ]
    }
   ],
   "source": [
    "addition = lambda a, b, c : a + b + c\n",
    "print(addition(5, 6, 2))"
   ]
  },
  {
   "cell_type": "code",
   "execution_count": 20,
   "id": "db072342",
   "metadata": {},
   "outputs": [
    {
     "data": {
      "text/plain": [
       "(30, 100, 280)"
      ]
     },
     "execution_count": 20,
     "metadata": {},
     "output_type": "execute_result"
    }
   ],
   "source": [
    "res = (lambda *args : sum(args))\n",
    "res(10, 20), res(10,20,30,40), res(10,20,30,40,50,60,70)"
   ]
  },
  {
   "cell_type": "code",
   "execution_count": 21,
   "id": "7c9cb2b2",
   "metadata": {},
   "outputs": [
    {
     "data": {
      "text/plain": [
       "(60, 150)"
      ]
     },
     "execution_count": 21,
     "metadata": {},
     "output_type": "execute_result"
    }
   ],
   "source": [
    "res1 = (lambda **kwargs : sum(kwargs.values()))\n",
    "res1(a = 10, b = 20, c = 30), res1(a = 10, b = 20, c = 30, d = 40, e = 50)"
   ]
  },
  {
   "cell_type": "code",
   "execution_count": 22,
   "id": "ecb7c4c0",
   "metadata": {},
   "outputs": [],
   "source": [
    "#filter(function, iterable) \n",
    "#iterable : set, list, tuple"
   ]
  },
  {
   "cell_type": "code",
   "execution_count": 23,
   "id": "67530ef2",
   "metadata": {},
   "outputs": [
    {
     "data": {
      "text/plain": [
       "[1, 3, 5, 7, 9]"
      ]
     },
     "execution_count": 23,
     "metadata": {},
     "output_type": "execute_result"
    }
   ],
   "source": [
    "list1 = [1,2,3,4,5,6,7,8,9]\n",
    "\n",
    "def odd(n):\n",
    "    if n%2 == 1:\n",
    "        return True\n",
    "    else:\n",
    "        return False\n",
    "    \n",
    "odd_num = list(filter(odd, list1))\n",
    "odd_num"
   ]
  },
  {
   "cell_type": "code",
   "execution_count": 24,
   "id": "6fc74ed2",
   "metadata": {},
   "outputs": [
    {
     "data": {
      "text/plain": [
       "[1, 3, 5, 7, 9]"
      ]
     },
     "execution_count": 24,
     "metadata": {},
     "output_type": "execute_result"
    }
   ],
   "source": [
    "list1 = [1,2,3,4,5,6,7,8,9]\n",
    "\n",
    "odd_num = list(filter(lambda n : n%2 == 1, list1))\n",
    "odd_num"
   ]
  },
  {
   "cell_type": "code",
   "execution_count": 25,
   "id": "351b8c8e",
   "metadata": {},
   "outputs": [],
   "source": [
    "#map -> map(function, iterable)"
   ]
  },
  {
   "cell_type": "code",
   "execution_count": 26,
   "id": "6b02e8b8",
   "metadata": {},
   "outputs": [
    {
     "data": {
      "text/plain": [
       "[2, 6, 10, 14, 18]"
      ]
     },
     "execution_count": 26,
     "metadata": {},
     "output_type": "execute_result"
    }
   ],
   "source": [
    "def twice(n):\n",
    "    return n*2\n",
    "\n",
    "doubles = list(map(twice, odd_num))\n",
    "doubles"
   ]
  },
  {
   "cell_type": "code",
   "execution_count": 27,
   "id": "f7865386",
   "metadata": {},
   "outputs": [
    {
     "data": {
      "text/plain": [
       "[2, 6, 10, 14, 18]"
      ]
     },
     "execution_count": 27,
     "metadata": {},
     "output_type": "execute_result"
    }
   ],
   "source": [
    "doubles = list(map(lambda n : n*2, odd_num))\n",
    "doubles"
   ]
  },
  {
   "cell_type": "code",
   "execution_count": 28,
   "id": "64af1f94",
   "metadata": {},
   "outputs": [],
   "source": [
    "#reduce -> reduce(function, iterable)"
   ]
  },
  {
   "cell_type": "code",
   "execution_count": 29,
   "id": "bb1a66fb",
   "metadata": {},
   "outputs": [],
   "source": [
    "from functools import reduce"
   ]
  },
  {
   "cell_type": "code",
   "execution_count": 30,
   "id": "f4b2a60d",
   "metadata": {},
   "outputs": [
    {
     "data": {
      "text/plain": [
       "50"
      ]
     },
     "execution_count": 30,
     "metadata": {},
     "output_type": "execute_result"
    }
   ],
   "source": [
    "def add(a, b):\n",
    "    return a + b\n",
    "\n",
    "sum_all = reduce(add, doubles)\n",
    "sum_all"
   ]
  },
  {
   "cell_type": "code",
   "execution_count": 31,
   "id": "46055a92",
   "metadata": {},
   "outputs": [
    {
     "data": {
      "text/plain": [
       "50"
      ]
     },
     "execution_count": 31,
     "metadata": {},
     "output_type": "execute_result"
    }
   ],
   "source": [
    "sum_all = reduce(lambda a,b : a+b, doubles)\n",
    "sum_all"
   ]
  },
  {
   "cell_type": "code",
   "execution_count": 32,
   "id": "19a6b0fd",
   "metadata": {},
   "outputs": [
    {
     "data": {
      "text/plain": [
       "50"
      ]
     },
     "execution_count": 32,
     "metadata": {},
     "output_type": "execute_result"
    }
   ],
   "source": [
    "sum_all = reduce(lambda a, b : a + b,list(map(lambda n : n*2,list(filter(lambda n : n % 2 == 1, list1)))))\n",
    "sum_all"
   ]
  },
  {
   "cell_type": "code",
   "execution_count": 33,
   "id": "f86d3f8c",
   "metadata": {},
   "outputs": [],
   "source": [
    "#Files and exceptions"
   ]
  },
  {
   "cell_type": "code",
   "execution_count": 34,
   "id": "65f75965",
   "metadata": {},
   "outputs": [
    {
     "name": "stdout",
     "output_type": "stream",
     "text": [
      "<_io.TextIOWrapper name='test3001.txt' mode='w' encoding='cp1254'>\n"
     ]
    }
   ],
   "source": [
    "f = open(\"test3001.txt\", \"w\")\n",
    "print(f)\n",
    "f.write(\"Now is the time\")\n",
    "f.write(\" to close the file\")\n",
    "f.close()"
   ]
  },
  {
   "cell_type": "code",
   "execution_count": 35,
   "id": "cbc347a5",
   "metadata": {},
   "outputs": [
    {
     "name": "stdout",
     "output_type": "stream",
     "text": [
      "Now is the time to close the file\n"
     ]
    }
   ],
   "source": [
    "f = open(\"test3001.txt\", \"r\")\n",
    "text = f.read()\n",
    "print(text)"
   ]
  },
  {
   "cell_type": "code",
   "execution_count": 36,
   "id": "b067c08c",
   "metadata": {},
   "outputs": [
    {
     "name": "stdout",
     "output_type": "stream",
     "text": [
      "Now i\n"
     ]
    }
   ],
   "source": [
    "f = open(\"test3001.txt\", \"r\")\n",
    "print(f.read(5))"
   ]
  },
  {
   "cell_type": "code",
   "execution_count": 37,
   "id": "bd09b415",
   "metadata": {},
   "outputs": [
    {
     "name": "stdout",
     "output_type": "stream",
     "text": [
      "s the time to close the file\n"
     ]
    }
   ],
   "source": [
    "print(f.read(1000006))"
   ]
  },
  {
   "cell_type": "code",
   "execution_count": 38,
   "id": "e4c2b996",
   "metadata": {},
   "outputs": [
    {
     "data": {
      "text/plain": [
       "45"
      ]
     },
     "execution_count": 38,
     "metadata": {},
     "output_type": "execute_result"
    }
   ],
   "source": [
    "fo = open(\"foo3001.txt\", \"w\")\n",
    "fo.write(\"Python is a great language.\\nYeah its great!!\\n\")"
   ]
  },
  {
   "cell_type": "code",
   "execution_count": 39,
   "id": "9fe66fb0",
   "metadata": {},
   "outputs": [
    {
     "name": "stdout",
     "output_type": "stream",
     "text": [
      "Our string is :  Python is a great\n"
     ]
    }
   ],
   "source": [
    "fo = open(\"foo3001.txt\", \"r\")\n",
    "mystr1 = fo.read(17)\n",
    "print(\"Our string is : \", mystr1)"
   ]
  },
  {
   "cell_type": "code",
   "execution_count": 40,
   "id": "0f3d64b2",
   "metadata": {},
   "outputs": [
    {
     "name": "stdout",
     "output_type": "stream",
     "text": [
      "Current cursor position : 17\n"
     ]
    }
   ],
   "source": [
    "position = fo.tell()\n",
    "print(\"Current cursor position :\", position)"
   ]
  },
  {
   "cell_type": "code",
   "execution_count": 41,
   "id": "74128ea8",
   "metadata": {},
   "outputs": [
    {
     "name": "stdout",
     "output_type": "stream",
     "text": [
      "Again our string is : Python is a great la\n"
     ]
    }
   ],
   "source": [
    "position = fo.seek(0,0)\n",
    "mystr2 = fo.read(20)\n",
    "print(\"Again our string is :\", mystr2)\n",
    "fo.close()"
   ]
  },
  {
   "cell_type": "code",
   "execution_count": null,
   "id": "5a496fbb",
   "metadata": {},
   "outputs": [],
   "source": []
  }
 ],
 "metadata": {
  "kernelspec": {
   "display_name": "Python 3",
   "language": "python",
   "name": "python3"
  },
  "language_info": {
   "codemirror_mode": {
    "name": "ipython",
    "version": 3
   },
   "file_extension": ".py",
   "mimetype": "text/x-python",
   "name": "python",
   "nbconvert_exporter": "python",
   "pygments_lexer": "ipython3",
   "version": "3.8.8"
  }
 },
 "nbformat": 4,
 "nbformat_minor": 5
}
