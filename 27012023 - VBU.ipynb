{
 "cells": [
  {
   "cell_type": "code",
   "execution_count": 3,
   "id": "bee3430c",
   "metadata": {},
   "outputs": [
    {
     "name": "stdout",
     "output_type": "stream",
     "text": [
      "100--1000.0--Python\n"
     ]
    }
   ],
   "source": [
    "counter = 100\n",
    "distance = 1000.0\n",
    "name = \"Python\"\n",
    "\n",
    "print(counter, distance, name, sep = '--')"
   ]
  },
  {
   "cell_type": "code",
   "execution_count": 4,
   "id": "f6c11779",
   "metadata": {},
   "outputs": [
    {
     "name": "stdout",
     "output_type": "stream",
     "text": [
      "Hello Python!\n",
      "H\n",
      "llo\n",
      "llo Python!\n",
      "Hello Python!Hello Python!\n",
      "Hello Python! TEST\n"
     ]
    }
   ],
   "source": [
    "mystr1 = 'Hello Python!'\n",
    "\n",
    "print(mystr1)\n",
    "print(mystr1[0])\n",
    "print(mystr1[2:5])\n",
    "print(mystr1[2:])\n",
    "print(mystr1 * 2)\n",
    "print(mystr1 + \" TEST\")"
   ]
  },
  {
   "cell_type": "code",
   "execution_count": 6,
   "id": "0e817959",
   "metadata": {},
   "outputs": [
    {
     "name": "stdout",
     "output_type": "stream",
     "text": [
      "['abcd', 786, 2.23, 'Bil', '70.2']\n",
      "c\n",
      "[786, 2.23]\n",
      "[2.23, 'Bil', '70.2']\n",
      "[123, 'Bil', 123, 'Bil']\n",
      "['abcd', 786, 2.23, 'Bil', '70.2', 123, 'Bil']\n"
     ]
    }
   ],
   "source": [
    "lst1 = ['abcd', 786, 2.23, 'Bil', '70.2']\n",
    "minilist = [123, 'Bil']\n",
    "\n",
    "print(lst1)\n",
    "print(lst1[0][2])\n",
    "print(lst1[1:3])\n",
    "print(lst1[2:])\n",
    "print(minilist * 2)\n",
    "print(lst1 + minilist)"
   ]
  },
  {
   "cell_type": "code",
   "execution_count": 7,
   "id": "7e31af4c",
   "metadata": {},
   "outputs": [
    {
     "name": "stdout",
     "output_type": "stream",
     "text": [
      "True\n",
      "True\n",
      "False\n",
      "True\n",
      "False\n"
     ]
    },
    {
     "data": {
      "text/plain": [
       "'\\nAND          OR\\n0 0 | 0    0 0 | 0\\n0 1 | 0    0 1 | 1\\n1 0 | 0    1 0 | 1\\n1 1 | 1    1 1 | 1\\n'"
      ]
     },
     "execution_count": 7,
     "metadata": {},
     "output_type": "execute_result"
    }
   ],
   "source": [
    "a = 6\n",
    "b = 7\n",
    "\n",
    "print(not a == 7 and b == 7)\n",
    "print(a == 7 or b == 7)\n",
    "print(a == 7 or b == 6)\n",
    "print(not(a == 7 and b == 6))\n",
    "print(not a == 7 and b == 6)\n",
    "\"\"\"\n",
    "AND          OR\n",
    "0 0 | 0    0 0 | 0\n",
    "0 1 | 0    0 1 | 1\n",
    "1 0 | 0    1 0 | 1\n",
    "1 1 | 1    1 1 | 1\n",
    "\"\"\""
   ]
  },
  {
   "cell_type": "code",
   "execution_count": 9,
   "id": "c07f95f9",
   "metadata": {},
   "outputs": [
    {
     "name": "stdout",
     "output_type": "stream",
     "text": [
      "What is your username?dogu\n",
      "What is the password?sirt\n",
      "Cannot recognise who are you\n"
     ]
    }
   ],
   "source": [
    "username = input(\"What is your username?\")\n",
    "password = input(\"What is the password?\")\n",
    "\n",
    "if username == \"BIL100E\" and password == \"Python\":\n",
    "    print(\"Welcome BIL100E Python\")\n",
    "elif username == \"Programming\" and password == \"Languages\":\n",
    "    print(\"Welcome Programming Languages\")\n",
    "else:\n",
    "    print(\"Cannot recognise who are you\")"
   ]
  },
  {
   "cell_type": "code",
   "execution_count": null,
   "id": "b2618ced",
   "metadata": {},
   "outputs": [],
   "source": []
  }
 ],
 "metadata": {
  "kernelspec": {
   "display_name": "Python 3",
   "language": "python",
   "name": "python3"
  },
  "language_info": {
   "codemirror_mode": {
    "name": "ipython",
    "version": 3
   },
   "file_extension": ".py",
   "mimetype": "text/x-python",
   "name": "python",
   "nbconvert_exporter": "python",
   "pygments_lexer": "ipython3",
   "version": "3.8.8"
  }
 },
 "nbformat": 4,
 "nbformat_minor": 5
}
