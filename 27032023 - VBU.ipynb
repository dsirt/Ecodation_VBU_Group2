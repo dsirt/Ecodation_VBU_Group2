{
 "cells": [
  {
   "cell_type": "code",
   "execution_count": 13,
   "id": "05068775",
   "metadata": {},
   "outputs": [],
   "source": [
    "import numpy as np\n",
    "import matplotlib.pyplot as plt\n",
    "from keras.datasets import imdb\n",
    "from keras.models import Sequential\n",
    "from keras.layers import Dense\n",
    "from keras.layers import Embedding, SimpleRNN\n",
    "from keras.preprocessing import sequence\n",
    "import warnings\n",
    "warnings.filterwarnings('ignore')"
   ]
  },
  {
   "cell_type": "code",
   "execution_count": 3,
   "id": "099d13a7",
   "metadata": {},
   "outputs": [
    {
     "name": "stdout",
     "output_type": "stream",
     "text": [
      "[list([1, 14, 22, 16, 43, 530, 973, 1622, 1385, 65, 458, 4468, 66, 3941, 4, 173, 36, 256, 5, 25, 100, 43, 838, 112, 50, 670, 2, 9, 35, 480, 284, 5, 150, 4, 172, 112, 167, 2, 336, 385, 39, 4, 172, 4536, 1111, 17, 546, 38, 13, 447, 4, 192, 50, 16, 6, 147, 2025, 19, 14, 22, 4, 1920, 4613, 469, 4, 22, 71, 87, 12, 16, 43, 530, 38, 76, 15, 13, 1247, 4, 22, 17, 515, 17, 12, 16, 626, 18, 2, 5, 62, 386, 12, 8, 316, 8, 106, 5, 4, 2223, 2, 16, 480, 66, 3785, 33, 4, 130, 12, 16, 38, 619, 5, 25, 124, 51, 36, 135, 48, 25, 1415, 33, 6, 22, 12, 215, 28, 77, 52, 5, 14, 407, 16, 82, 2, 8, 4, 107, 117, 2, 15, 256, 4, 2, 7, 3766, 5, 723, 36, 71, 43, 530, 476, 26, 400, 317, 46, 7, 4, 2, 1029, 13, 104, 88, 4, 381, 15, 297, 98, 32, 2071, 56, 26, 141, 6, 194, 2, 18, 4, 226, 22, 21, 134, 476, 26, 480, 5, 144, 30, 2, 18, 51, 36, 28, 224, 92, 25, 104, 4, 226, 65, 16, 38, 1334, 88, 12, 16, 283, 5, 16, 4472, 113, 103, 32, 15, 16, 2, 19, 178, 32])\n",
      " list([1, 194, 1153, 194, 2, 78, 228, 5, 6, 1463, 4369, 2, 134, 26, 4, 715, 8, 118, 1634, 14, 394, 20, 13, 119, 954, 189, 102, 5, 207, 110, 3103, 21, 14, 69, 188, 8, 30, 23, 7, 4, 249, 126, 93, 4, 114, 9, 2300, 1523, 5, 647, 4, 116, 9, 35, 2, 4, 229, 9, 340, 1322, 4, 118, 9, 4, 130, 4901, 19, 4, 1002, 5, 89, 29, 952, 46, 37, 4, 455, 9, 45, 43, 38, 1543, 1905, 398, 4, 1649, 26, 2, 5, 163, 11, 3215, 2, 4, 1153, 9, 194, 775, 7, 2, 2, 349, 2637, 148, 605, 2, 2, 15, 123, 125, 68, 2, 2, 15, 349, 165, 4362, 98, 5, 4, 228, 9, 43, 2, 1157, 15, 299, 120, 5, 120, 174, 11, 220, 175, 136, 50, 9, 4373, 228, 2, 5, 2, 656, 245, 2350, 5, 4, 2, 131, 152, 491, 18, 2, 32, 2, 1212, 14, 9, 6, 371, 78, 22, 625, 64, 1382, 9, 8, 168, 145, 23, 4, 1690, 15, 16, 4, 1355, 5, 28, 6, 52, 154, 462, 33, 89, 78, 285, 16, 145, 95])\n",
      " list([1, 14, 47, 8, 30, 31, 7, 4, 249, 108, 7, 4, 2, 54, 61, 369, 13, 71, 149, 14, 22, 112, 4, 2401, 311, 12, 16, 3711, 33, 75, 43, 1829, 296, 4, 86, 320, 35, 534, 19, 263, 4821, 1301, 4, 1873, 33, 89, 78, 12, 66, 16, 4, 360, 7, 4, 58, 316, 334, 11, 4, 1716, 43, 645, 662, 8, 257, 85, 1200, 42, 1228, 2578, 83, 68, 3912, 15, 36, 165, 1539, 278, 36, 69, 2, 780, 8, 106, 14, 2, 1338, 18, 6, 22, 12, 215, 28, 610, 40, 6, 87, 326, 23, 2300, 21, 23, 22, 12, 272, 40, 57, 31, 11, 4, 22, 47, 6, 2307, 51, 9, 170, 23, 595, 116, 595, 1352, 13, 191, 79, 638, 89, 2, 14, 9, 8, 106, 607, 624, 35, 534, 6, 227, 7, 129, 113])\n",
      " ...\n",
      " list([1, 11, 6, 230, 245, 2, 9, 6, 1225, 446, 2, 45, 2174, 84, 2, 4007, 21, 4, 912, 84, 2, 325, 725, 134, 2, 1715, 84, 5, 36, 28, 57, 1099, 21, 8, 140, 8, 703, 5, 2, 84, 56, 18, 1644, 14, 9, 31, 7, 4, 2, 1209, 2295, 2, 1008, 18, 6, 20, 207, 110, 563, 12, 8, 2901, 2, 8, 97, 6, 20, 53, 4767, 74, 4, 460, 364, 1273, 29, 270, 11, 960, 108, 45, 40, 29, 2961, 395, 11, 6, 4065, 500, 7, 2, 89, 364, 70, 29, 140, 4, 64, 4780, 11, 4, 2678, 26, 178, 4, 529, 443, 2, 5, 27, 710, 117, 2, 2, 165, 47, 84, 37, 131, 818, 14, 595, 10, 10, 61, 1242, 1209, 10, 10, 288, 2260, 1702, 34, 2901, 2, 4, 65, 496, 4, 231, 7, 790, 5, 6, 320, 234, 2766, 234, 1119, 1574, 7, 496, 4, 139, 929, 2901, 2, 2, 5, 4241, 18, 4, 2, 2, 250, 11, 1818, 2, 4, 4217, 2, 747, 1115, 372, 1890, 1006, 541, 2, 7, 4, 59, 2, 4, 3586, 2])\n",
      " list([1, 1446, 2, 69, 72, 3305, 13, 610, 930, 8, 12, 582, 23, 5, 16, 484, 685, 54, 349, 11, 4120, 2959, 45, 58, 1466, 13, 197, 12, 16, 43, 23, 2, 5, 62, 30, 145, 402, 11, 4131, 51, 575, 32, 61, 369, 71, 66, 770, 12, 1054, 75, 100, 2198, 8, 4, 105, 37, 69, 147, 712, 75, 3543, 44, 257, 390, 5, 69, 263, 514, 105, 50, 286, 1814, 23, 4, 123, 13, 161, 40, 5, 421, 4, 116, 16, 897, 13, 2, 40, 319, 2, 112, 2, 11, 4803, 121, 25, 70, 3468, 4, 719, 3798, 13, 18, 31, 62, 40, 8, 2, 4, 2, 7, 14, 123, 5, 942, 25, 8, 721, 12, 145, 5, 202, 12, 160, 580, 202, 12, 6, 52, 58, 2, 92, 401, 728, 12, 39, 14, 251, 8, 15, 251, 5, 2, 12, 38, 84, 80, 124, 12, 9, 23])\n",
      " list([1, 17, 6, 194, 337, 7, 4, 204, 22, 45, 254, 8, 106, 14, 123, 4, 2, 270, 2, 5, 2, 2, 732, 2098, 101, 405, 39, 14, 1034, 4, 1310, 9, 115, 50, 305, 12, 47, 4, 168, 5, 235, 7, 38, 111, 699, 102, 7, 4, 4039, 2, 9, 24, 6, 78, 1099, 17, 2345, 2, 21, 27, 2, 2, 5, 2, 1603, 92, 1183, 4, 1310, 7, 4, 204, 42, 97, 90, 35, 221, 109, 29, 127, 27, 118, 8, 97, 12, 157, 21, 2, 2, 9, 6, 66, 78, 1099, 4, 631, 1191, 5, 2642, 272, 191, 1070, 6, 2, 8, 2197, 2, 2, 544, 5, 383, 1271, 848, 1468, 2, 497, 2, 8, 1597, 2, 2, 21, 60, 27, 239, 9, 43, 2, 209, 405, 10, 10, 12, 764, 40, 4, 248, 20, 12, 16, 5, 174, 1791, 72, 7, 51, 6, 1739, 22, 4, 204, 131, 9])]\n"
     ]
    }
   ],
   "source": [
    "num_words = 5000\n",
    "(X_train, y_train), (X_test, y_test) = imdb.load_data(num_words = num_words)\n",
    "print(X_train)"
   ]
  },
  {
   "cell_type": "code",
   "execution_count": 4,
   "id": "846e3ccb",
   "metadata": {},
   "outputs": [
    {
     "name": "stdout",
     "output_type": "stream",
     "text": [
      "(25000,)\n"
     ]
    }
   ],
   "source": [
    "print(X_train.shape)"
   ]
  },
  {
   "cell_type": "code",
   "execution_count": 5,
   "id": "6ea7c79f",
   "metadata": {},
   "outputs": [
    {
     "name": "stdout",
     "output_type": "stream",
     "text": [
      "Eğitim kümesinin son hali : \n",
      " [[   0    0    0 ...   19  178   32]\n",
      " [   0    0    0 ...   16  145   95]\n",
      " [   0    0    0 ...    7  129  113]\n",
      " ...\n",
      " [   0    0    0 ...    4 3586    2]\n",
      " [   0    0    0 ...   12    9   23]\n",
      " [   0    0    0 ...  204  131    9]]\n"
     ]
    }
   ],
   "source": [
    "max_kelime = 500\n",
    "X_train = sequence.pad_sequences(X_train, maxlen = max_kelime)\n",
    "X_test = sequence.pad_sequences(X_test, maxlen = max_kelime)\n",
    "print(\"Eğitim kümesinin son hali : \\n\", X_train)"
   ]
  },
  {
   "cell_type": "code",
   "execution_count": 6,
   "id": "38492859",
   "metadata": {},
   "outputs": [
    {
     "name": "stdout",
     "output_type": "stream",
     "text": [
      "(25000, 500)\n"
     ]
    }
   ],
   "source": [
    "print(X_train.shape)"
   ]
  },
  {
   "cell_type": "code",
   "execution_count": 7,
   "id": "58cb3c49",
   "metadata": {},
   "outputs": [],
   "source": [
    "embedding_vector_length = 32\n",
    "model = Sequential()\n",
    "model.add(Embedding(num_words, embedding_vector_length))\n",
    "model.add(SimpleRNN(64))\n",
    "model.add(Dense(1, activation = 'sigmoid'))"
   ]
  },
  {
   "cell_type": "code",
   "execution_count": 8,
   "id": "3c8a1a15",
   "metadata": {},
   "outputs": [
    {
     "name": "stdout",
     "output_type": "stream",
     "text": [
      "WARNING:tensorflow:From C:\\Users\\ITU\\AppData\\Roaming\\Python\\Python36\\site-packages\\tensorflow\\python\\ops\\nn_impl.py:180: add_dispatch_support.<locals>.wrapper (from tensorflow.python.ops.array_ops) is deprecated and will be removed in a future version.\n",
      "Instructions for updating:\n",
      "Use tf.where in 2.0, which has the same broadcast rule as np.where\n"
     ]
    }
   ],
   "source": [
    "model.compile(\n",
    "    loss = \"binary_crossentropy\",\n",
    "    optimizer = \"adam\",\n",
    "    metrics = ['accuracy']\n",
    ")"
   ]
  },
  {
   "cell_type": "code",
   "execution_count": 10,
   "id": "f8a4e60b",
   "metadata": {},
   "outputs": [
    {
     "data": {
      "image/png": "[encoded data removed]",
      "text/plain": [
       "<IPython.core.display.Image object>"
      ]
     },
     "execution_count": 10,
     "metadata": {},
     "output_type": "execute_result"
    }
   ],
   "source": [
    "import tensorflow as tf\n",
    "tf.keras.utils.plot_model(model, \"VBU-Group2-RNN.png\", show_shapes = True, show_layer_names = True)"
   ]
  },
  {
   "cell_type": "code",
   "execution_count": 15,
   "id": "0f3150ab",
   "metadata": {},
   "outputs": [
    {
     "name": "stdout",
     "output_type": "stream",
     "text": [
      "Train on 20000 samples, validate on 5000 samples\n",
      "Epoch 1/10\n",
      "20000/20000 [==============================] - 34s 2ms/step - loss: 0.6364 - accuracy: 0.6885 - val_loss: 0.6517 - val_accuracy: 0.6084\n",
      "Epoch 2/10\n",
      "20000/20000 [==============================] - 33s 2ms/step - loss: 0.6285 - accuracy: 0.6970 - val_loss: 0.6469 - val_accuracy: 0.6108\n",
      "Epoch 3/10\n",
      "20000/20000 [==============================] - 32s 2ms/step - loss: 0.6200 - accuracy: 0.7036 - val_loss: 0.6419 - val_accuracy: 0.6134\n",
      "Epoch 4/10\n",
      "20000/20000 [==============================] - 32s 2ms/step - loss: 0.6109 - accuracy: 0.7057 - val_loss: 0.6375 - val_accuracy: 0.6164\n",
      "Epoch 5/10\n",
      "20000/20000 [==============================] - 33s 2ms/step - loss: 0.6011 - accuracy: 0.7125 - val_loss: 0.6324 - val_accuracy: 0.6190\n",
      "Epoch 6/10\n",
      "20000/20000 [==============================] - 37s 2ms/step - loss: 0.5909 - accuracy: 0.7150 - val_loss: 0.6281 - val_accuracy: 0.6208\n",
      "Epoch 7/10\n",
      "20000/20000 [==============================] - 34s 2ms/step - loss: 0.5802 - accuracy: 0.7218 - val_loss: 0.6238 - val_accuracy: 0.6250\n",
      "Epoch 8/10\n",
      "20000/20000 [==============================] - 33s 2ms/step - loss: 0.5689 - accuracy: 0.7279 - val_loss: 0.6204 - val_accuracy: 0.6282\n",
      "Epoch 9/10\n",
      "20000/20000 [==============================] - 33s 2ms/step - loss: 0.5578 - accuracy: 0.7347 - val_loss: 0.6172 - val_accuracy: 0.6290\n",
      "Epoch 10/10\n",
      "20000/20000 [==============================] - 35s 2ms/step - loss: 0.5463 - accuracy: 0.7423 - val_loss: 0.6146 - val_accuracy: 0.6352\n"
     ]
    }
   ],
   "source": [
    "history = model.fit(\n",
    "        X_train,\n",
    "        y_train,\n",
    "        epochs = 10,\n",
    "        batch_size = 512,\n",
    "        validation_split = 0.2\n",
    ")"
   ]
  },
  {
   "cell_type": "code",
   "execution_count": 16,
   "id": "36be8041",
   "metadata": {},
   "outputs": [
    {
     "data": {
      "image/png": "[encoded data removed]",
      "text/plain": [
       "<Figure size 432x288 with 1 Axes>"
      ]
     },
     "metadata": {
      "needs_background": "light"
     },
     "output_type": "display_data"
    }
   ],
   "source": [
    "plt.plot(history.history[\"accuracy\"], \"--\")\n",
    "plt.plot(history.history[\"val_accuracy\"])\n",
    "plt.title(\"Model Performansı\")\n",
    "plt.xlabel(\"Devir Sayısı\")\n",
    "plt.ylabel(\"Doğruluk\")\n",
    "plt.legend([\"Eğitim\", \"Test\"], loc = \"upper left\")\n",
    "plt.show()"
   ]
  },
  {
   "cell_type": "code",
   "execution_count": 17,
   "id": "e9203b09",
   "metadata": {},
   "outputs": [
    {
     "data": {
      "image/png": "[encoded data removed]",
      "text/plain": [
       "<Figure size 432x288 with 1 Axes>"
      ]
     },
     "metadata": {
      "needs_background": "light"
     },
     "output_type": "display_data"
    }
   ],
   "source": [
    "plt.plot(history.history[\"loss\"], \"--\")\n",
    "plt.plot(history.history[\"val_loss\"])\n",
    "plt.title(\"Model Performansı\")\n",
    "plt.xlabel(\"Devir Sayısı\")\n",
    "plt.ylabel(\"Hata\")\n",
    "plt.legend([\"Eğitim\", \"Test\"], loc = \"upper left\")\n",
    "plt.show()"
   ]
  },
  {
   "cell_type": "code",
   "execution_count": 18,
   "id": "3bffe3bd",
   "metadata": {},
   "outputs": [
    {
     "name": "stdout",
     "output_type": "stream",
     "text": [
      "Modelin Doğruluğu : 64.15%\n"
     ]
    }
   ],
   "source": [
    "performans = model.evaluate(X_test, y_test, verbose = 0)\n",
    "print(\"Modelin Doğruluğu : %.2f%%\" % (performans[1]*100))"
   ]
  },
  {
   "cell_type": "code",
   "execution_count": 19,
   "id": "d013a9f0",
   "metadata": {},
   "outputs": [],
   "source": [
    "#Long Short Term Memory (LSTM)"
   ]
  },
  {
   "cell_type": "code",
   "execution_count": 20,
   "id": "5d400b9e",
   "metadata": {},
   "outputs": [
    {
     "name": "stdout",
     "output_type": "stream",
     "text": [
      "[list([1, 14, 22, 16, 43, 530, 973, 1622, 1385, 65, 458, 4468, 66, 3941, 4, 173, 36, 256, 5, 25, 100, 43, 838, 112, 50, 670, 2, 9, 35, 480, 284, 5, 150, 4, 172, 112, 167, 2, 336, 385, 39, 4, 172, 4536, 1111, 17, 546, 38, 13, 447, 4, 192, 50, 16, 6, 147, 2025, 19, 14, 22, 4, 1920, 4613, 469, 4, 22, 71, 87, 12, 16, 43, 530, 38, 76, 15, 13, 1247, 4, 22, 17, 515, 17, 12, 16, 626, 18, 2, 5, 62, 386, 12, 8, 316, 8, 106, 5, 4, 2223, 2, 16, 480, 66, 3785, 33, 4, 130, 12, 16, 38, 619, 5, 25, 124, 51, 36, 135, 48, 25, 1415, 33, 6, 22, 12, 215, 28, 77, 52, 5, 14, 407, 16, 82, 2, 8, 4, 107, 117, 2, 15, 256, 4, 2, 7, 3766, 5, 723, 36, 71, 43, 530, 476, 26, 400, 317, 46, 7, 4, 2, 1029, 13, 104, 88, 4, 381, 15, 297, 98, 32, 2071, 56, 26, 141, 6, 194, 2, 18, 4, 226, 22, 21, 134, 476, 26, 480, 5, 144, 30, 2, 18, 51, 36, 28, 224, 92, 25, 104, 4, 226, 65, 16, 38, 1334, 88, 12, 16, 283, 5, 16, 4472, 113, 103, 32, 15, 16, 2, 19, 178, 32])\n",
      " list([1, 194, 1153, 194, 2, 78, 228, 5, 6, 1463, 4369, 2, 134, 26, 4, 715, 8, 118, 1634, 14, 394, 20, 13, 119, 954, 189, 102, 5, 207, 110, 3103, 21, 14, 69, 188, 8, 30, 23, 7, 4, 249, 126, 93, 4, 114, 9, 2300, 1523, 5, 647, 4, 116, 9, 35, 2, 4, 229, 9, 340, 1322, 4, 118, 9, 4, 130, 4901, 19, 4, 1002, 5, 89, 29, 952, 46, 37, 4, 455, 9, 45, 43, 38, 1543, 1905, 398, 4, 1649, 26, 2, 5, 163, 11, 3215, 2, 4, 1153, 9, 194, 775, 7, 2, 2, 349, 2637, 148, 605, 2, 2, 15, 123, 125, 68, 2, 2, 15, 349, 165, 4362, 98, 5, 4, 228, 9, 43, 2, 1157, 15, 299, 120, 5, 120, 174, 11, 220, 175, 136, 50, 9, 4373, 228, 2, 5, 2, 656, 245, 2350, 5, 4, 2, 131, 152, 491, 18, 2, 32, 2, 1212, 14, 9, 6, 371, 78, 22, 625, 64, 1382, 9, 8, 168, 145, 23, 4, 1690, 15, 16, 4, 1355, 5, 28, 6, 52, 154, 462, 33, 89, 78, 285, 16, 145, 95])\n",
      " list([1, 14, 47, 8, 30, 31, 7, 4, 249, 108, 7, 4, 2, 54, 61, 369, 13, 71, 149, 14, 22, 112, 4, 2401, 311, 12, 16, 3711, 33, 75, 43, 1829, 296, 4, 86, 320, 35, 534, 19, 263, 4821, 1301, 4, 1873, 33, 89, 78, 12, 66, 16, 4, 360, 7, 4, 58, 316, 334, 11, 4, 1716, 43, 645, 662, 8, 257, 85, 1200, 42, 1228, 2578, 83, 68, 3912, 15, 36, 165, 1539, 278, 36, 69, 2, 780, 8, 106, 14, 2, 1338, 18, 6, 22, 12, 215, 28, 610, 40, 6, 87, 326, 23, 2300, 21, 23, 22, 12, 272, 40, 57, 31, 11, 4, 22, 47, 6, 2307, 51, 9, 170, 23, 595, 116, 595, 1352, 13, 191, 79, 638, 89, 2, 14, 9, 8, 106, 607, 624, 35, 534, 6, 227, 7, 129, 113])\n",
      " ...\n",
      " list([1, 11, 6, 230, 245, 2, 9, 6, 1225, 446, 2, 45, 2174, 84, 2, 4007, 21, 4, 912, 84, 2, 325, 725, 134, 2, 1715, 84, 5, 36, 28, 57, 1099, 21, 8, 140, 8, 703, 5, 2, 84, 56, 18, 1644, 14, 9, 31, 7, 4, 2, 1209, 2295, 2, 1008, 18, 6, 20, 207, 110, 563, 12, 8, 2901, 2, 8, 97, 6, 20, 53, 4767, 74, 4, 460, 364, 1273, 29, 270, 11, 960, 108, 45, 40, 29, 2961, 395, 11, 6, 4065, 500, 7, 2, 89, 364, 70, 29, 140, 4, 64, 4780, 11, 4, 2678, 26, 178, 4, 529, 443, 2, 5, 27, 710, 117, 2, 2, 165, 47, 84, 37, 131, 818, 14, 595, 10, 10, 61, 1242, 1209, 10, 10, 288, 2260, 1702, 34, 2901, 2, 4, 65, 496, 4, 231, 7, 790, 5, 6, 320, 234, 2766, 234, 1119, 1574, 7, 496, 4, 139, 929, 2901, 2, 2, 5, 4241, 18, 4, 2, 2, 250, 11, 1818, 2, 4, 4217, 2, 747, 1115, 372, 1890, 1006, 541, 2, 7, 4, 59, 2, 4, 3586, 2])\n",
      " list([1, 1446, 2, 69, 72, 3305, 13, 610, 930, 8, 12, 582, 23, 5, 16, 484, 685, 54, 349, 11, 4120, 2959, 45, 58, 1466, 13, 197, 12, 16, 43, 23, 2, 5, 62, 30, 145, 402, 11, 4131, 51, 575, 32, 61, 369, 71, 66, 770, 12, 1054, 75, 100, 2198, 8, 4, 105, 37, 69, 147, 712, 75, 3543, 44, 257, 390, 5, 69, 263, 514, 105, 50, 286, 1814, 23, 4, 123, 13, 161, 40, 5, 421, 4, 116, 16, 897, 13, 2, 40, 319, 2, 112, 2, 11, 4803, 121, 25, 70, 3468, 4, 719, 3798, 13, 18, 31, 62, 40, 8, 2, 4, 2, 7, 14, 123, 5, 942, 25, 8, 721, 12, 145, 5, 202, 12, 160, 580, 202, 12, 6, 52, 58, 2, 92, 401, 728, 12, 39, 14, 251, 8, 15, 251, 5, 2, 12, 38, 84, 80, 124, 12, 9, 23])\n",
      " list([1, 17, 6, 194, 337, 7, 4, 204, 22, 45, 254, 8, 106, 14, 123, 4, 2, 270, 2, 5, 2, 2, 732, 2098, 101, 405, 39, 14, 1034, 4, 1310, 9, 115, 50, 305, 12, 47, 4, 168, 5, 235, 7, 38, 111, 699, 102, 7, 4, 4039, 2, 9, 24, 6, 78, 1099, 17, 2345, 2, 21, 27, 2, 2, 5, 2, 1603, 92, 1183, 4, 1310, 7, 4, 204, 42, 97, 90, 35, 221, 109, 29, 127, 27, 118, 8, 97, 12, 157, 21, 2, 2, 9, 6, 66, 78, 1099, 4, 631, 1191, 5, 2642, 272, 191, 1070, 6, 2, 8, 2197, 2, 2, 544, 5, 383, 1271, 848, 1468, 2, 497, 2, 8, 1597, 2, 2, 21, 60, 27, 239, 9, 43, 2, 209, 405, 10, 10, 12, 764, 40, 4, 248, 20, 12, 16, 5, 174, 1791, 72, 7, 51, 6, 1739, 22, 4, 204, 131, 9])]\n"
     ]
    }
   ],
   "source": [
    "num_words = 5000\n",
    "(X_train, y_train), (X_test, y_test) = imdb.load_data(num_words = num_words)\n",
    "print(X_train)"
   ]
  },
  {
   "cell_type": "code",
   "execution_count": 21,
   "id": "9ad15e5b",
   "metadata": {},
   "outputs": [
    {
     "name": "stdout",
     "output_type": "stream",
     "text": [
      "(25000,)\n"
     ]
    }
   ],
   "source": [
    "print(X_train.shape)"
   ]
  },
  {
   "cell_type": "code",
   "execution_count": 22,
   "id": "f2bb4fea",
   "metadata": {},
   "outputs": [
    {
     "name": "stdout",
     "output_type": "stream",
     "text": [
      "Eğitim kümesinin son hali : \n",
      " [[   0    0    0 ...   19  178   32]\n",
      " [   0    0    0 ...   16  145   95]\n",
      " [   0    0    0 ...    7  129  113]\n",
      " ...\n",
      " [   0    0    0 ...    4 3586    2]\n",
      " [   0    0    0 ...   12    9   23]\n",
      " [   0    0    0 ...  204  131    9]]\n"
     ]
    }
   ],
   "source": [
    "max_kelime = 500\n",
    "X_train = sequence.pad_sequences(X_train, maxlen = max_kelime)\n",
    "X_test = sequence.pad_sequences(X_test, maxlen = max_kelime)\n",
    "print(\"Eğitim kümesinin son hali : \\n\", X_train)"
   ]
  },
  {
   "cell_type": "code",
   "execution_count": 23,
   "id": "3fc2348c",
   "metadata": {},
   "outputs": [
    {
     "name": "stdout",
     "output_type": "stream",
     "text": [
      "(25000, 500)\n"
     ]
    }
   ],
   "source": [
    "print(X_train.shape)"
   ]
  },
  {
   "cell_type": "code",
   "execution_count": 25,
   "id": "78f66a40",
   "metadata": {},
   "outputs": [],
   "source": [
    "from keras.layers import LSTM"
   ]
  },
  {
   "cell_type": "code",
   "execution_count": 26,
   "id": "e0f05823",
   "metadata": {},
   "outputs": [],
   "source": [
    "embedding_vector_length = 32\n",
    "model = Sequential()\n",
    "model.add(Embedding(num_words, embedding_vector_length))\n",
    "model.add(LSTM(64))\n",
    "model.add(Dense(1, activation = \"sigmoid\"))"
   ]
  },
  {
   "cell_type": "code",
   "execution_count": 27,
   "id": "545b38d4",
   "metadata": {},
   "outputs": [
    {
     "data": {
      "image/png": "[encoded data removed]",
      "text/plain": [
       "<IPython.core.display.Image object>"
      ]
     },
     "execution_count": 27,
     "metadata": {},
     "output_type": "execute_result"
    }
   ],
   "source": [
    "tf.keras.utils.plot_model(model, \"VBU-Group2-LSTM.png\", show_shapes = True, show_layer_names = True)"
   ]
  },
  {
   "cell_type": "code",
   "execution_count": 28,
   "id": "56a38a11",
   "metadata": {},
   "outputs": [],
   "source": [
    "model.compile(\n",
    "    loss = 'binary_crossentropy',\n",
    "    optimizer = 'adam',\n",
    "    metrics = ['accuracy']\n",
    ")"
   ]
  },
  {
   "cell_type": "code",
   "execution_count": 29,
   "id": "b91cb723",
   "metadata": {},
   "outputs": [
    {
     "name": "stdout",
     "output_type": "stream",
     "text": [
      "Model: \"sequential_3\"\n",
      "_________________________________________________________________\n",
      "Layer (type)                 Output Shape              Param #   \n",
      "=================================================================\n",
      "embedding_3 (Embedding)      (None, None, 32)          160000    \n",
      "_________________________________________________________________\n",
      "lstm_1 (LSTM)                (None, 64)                24832     \n",
      "_________________________________________________________________\n",
      "dense_2 (Dense)              (None, 1)                 65        \n",
      "=================================================================\n",
      "Total params: 184,897\n",
      "Trainable params: 184,897\n",
      "Non-trainable params: 0\n",
      "_________________________________________________________________\n",
      "None\n"
     ]
    }
   ],
   "source": [
    "print(model.summary())"
   ]
  },
  {
   "cell_type": "code",
   "execution_count": 30,
   "id": "6e3ad14b",
   "metadata": {},
   "outputs": [
    {
     "name": "stdout",
     "output_type": "stream",
     "text": [
      "Train on 20000 samples, validate on 5000 samples\n",
      "Epoch 1/10\n",
      "20000/20000 [==============================] - 142s 7ms/step - loss: 0.6620 - accuracy: 0.6197 - val_loss: 0.6314 - val_accuracy: 0.6946\n",
      "Epoch 2/10\n",
      "20000/20000 [==============================] - 139s 7ms/step - loss: 0.5173 - accuracy: 0.7786 - val_loss: 0.3885 - val_accuracy: 0.8402\n",
      "Epoch 3/10\n",
      "20000/20000 [==============================] - 150s 8ms/step - loss: 0.3248 - accuracy: 0.8664 - val_loss: 0.3391 - val_accuracy: 0.8558\n",
      "Epoch 4/10\n",
      "20000/20000 [==============================] - 170s 8ms/step - loss: 0.2633 - accuracy: 0.8997 - val_loss: 0.3039 - val_accuracy: 0.8764\n",
      "Epoch 5/10\n",
      "20000/20000 [==============================] - 185s 9ms/step - loss: 0.2133 - accuracy: 0.9202 - val_loss: 0.3515 - val_accuracy: 0.8464\n",
      "Epoch 6/10\n",
      "20000/20000 [==============================] - 195s 10ms/step - loss: 0.2398 - accuracy: 0.9080 - val_loss: 0.2985 - val_accuracy: 0.8778\n",
      "Epoch 7/10\n",
      "20000/20000 [==============================] - 200s 10ms/step - loss: 0.1896 - accuracy: 0.9313 - val_loss: 0.3132 - val_accuracy: 0.8716\n",
      "Epoch 8/10\n",
      "20000/20000 [==============================] - 203s 10ms/step - loss: 0.1793 - accuracy: 0.9351 - val_loss: 0.3485 - val_accuracy: 0.8726\n",
      "Epoch 9/10\n",
      "20000/20000 [==============================] - 205s 10ms/step - loss: 0.1582 - accuracy: 0.9431 - val_loss: 0.3115 - val_accuracy: 0.8708\n",
      "Epoch 10/10\n",
      "20000/20000 [==============================] - 213s 11ms/step - loss: 0.1559 - accuracy: 0.9479 - val_loss: 0.3199 - val_accuracy: 0.8664\n"
     ]
    }
   ],
   "source": [
    "history = model.fit(\n",
    "        X_train,\n",
    "        y_train,\n",
    "        epochs = 10,\n",
    "        batch_size = 512,\n",
    "        validation_split = 0.2\n",
    ")"
   ]
  },
  {
   "cell_type": "code",
   "execution_count": 31,
   "id": "4727b2ce",
   "metadata": {},
   "outputs": [
    {
     "data": {
      "image/png": "[encoded data removed]",
      "text/plain": [
       "<Figure size 432x288 with 1 Axes>"
      ]
     },
     "metadata": {
      "needs_background": "light"
     },
     "output_type": "display_data"
    }
   ],
   "source": [
    "plt.plot(history.history[\"accuracy\"], \"--\")\n",
    "plt.plot(history.history[\"val_accuracy\"])\n",
    "plt.title(\"Model Performansı\")\n",
    "plt.xlabel(\"Devir Sayısı\")\n",
    "plt.ylabel(\"Doğruluk\")\n",
    "plt.legend([\"Eğitim\", \"Test\"], loc = \"upper left\")\n",
    "plt.show()"
   ]
  },
  {
   "cell_type": "code",
   "execution_count": 32,
   "id": "2b53fa89",
   "metadata": {},
   "outputs": [
    {
     "data": {
      "image/png": "[encoded data removed]",
      "text/plain": [
       "<Figure size 432x288 with 1 Axes>"
      ]
     },
     "metadata": {
      "needs_background": "light"
     },
     "output_type": "display_data"
    }
   ],
   "source": [
    "plt.plot(history.history[\"loss\"], \"--\")\n",
    "plt.plot(history.history[\"val_loss\"])\n",
    "plt.title(\"Model Performansı\")\n",
    "plt.xlabel(\"Devir Sayısı\")\n",
    "plt.ylabel(\"Hata\")\n",
    "plt.legend([\"Eğitim\", \"Test\"], loc = \"upper left\")\n",
    "plt.show()"
   ]
  },
  {
   "cell_type": "code",
   "execution_count": 33,
   "id": "8f59d35b",
   "metadata": {},
   "outputs": [
    {
     "name": "stdout",
     "output_type": "stream",
     "text": [
      "Modelin Test Performansı : 86.54%\n"
     ]
    }
   ],
   "source": [
    "performans = model.evaluate(X_test, y_test, verbose = 0)\n",
    "print(\"Modelin Test Performansı : %.2f%%\" % (performans[1]*100))"
   ]
  },
  {
   "cell_type": "code",
   "execution_count": 34,
   "id": "f3a34c41",
   "metadata": {},
   "outputs": [],
   "source": [
    "#Derin Otokodlayıcılar (Deep Autoencoders)"
   ]
  },
  {
   "cell_type": "code",
   "execution_count": 35,
   "id": "0a544826",
   "metadata": {},
   "outputs": [],
   "source": [
    "#inputs = outputs"
   ]
  },
  {
   "cell_type": "code",
   "execution_count": 37,
   "id": "50030504",
   "metadata": {},
   "outputs": [],
   "source": [
    "import pandas as pd\n",
    "import numpy as np\n",
    "import matplotlib.pyplot as plt\n",
    "from keras.layers import Input, Dense\n",
    "from keras.models import Model"
   ]
  },
  {
   "cell_type": "code",
   "execution_count": 38,
   "id": "05510c4a",
   "metadata": {},
   "outputs": [
    {
     "data": {
      "text/html": [
       "<div>\n",
       "<style scoped>\n",
       "    .dataframe tbody tr th:only-of-type {\n",
       "        vertical-align: middle;\n",
       "    }\n",
       "\n",
       "    .dataframe tbody tr th {\n",
       "        vertical-align: top;\n",
       "    }\n",
       "\n",
       "    .dataframe thead th {\n",
       "        text-align: right;\n",
       "    }\n",
       "</style>\n",
       "<table border=\"1\" class=\"dataframe\">\n",
       "  <thead>\n",
       "    <tr style=\"text-align: right;\">\n",
       "      <th></th>\n",
       "      <th>Age_of_patient</th>\n",
       "      <th>year_of_operation</th>\n",
       "      <th>positive_axillary_nodes</th>\n",
       "      <th>Survival_status</th>\n",
       "    </tr>\n",
       "  </thead>\n",
       "  <tbody>\n",
       "    <tr>\n",
       "      <th>0</th>\n",
       "      <td>30</td>\n",
       "      <td>64</td>\n",
       "      <td>1</td>\n",
       "      <td>1</td>\n",
       "    </tr>\n",
       "    <tr>\n",
       "      <th>1</th>\n",
       "      <td>30</td>\n",
       "      <td>62</td>\n",
       "      <td>3</td>\n",
       "      <td>1</td>\n",
       "    </tr>\n",
       "    <tr>\n",
       "      <th>2</th>\n",
       "      <td>30</td>\n",
       "      <td>65</td>\n",
       "      <td>0</td>\n",
       "      <td>1</td>\n",
       "    </tr>\n",
       "    <tr>\n",
       "      <th>3</th>\n",
       "      <td>31</td>\n",
       "      <td>59</td>\n",
       "      <td>2</td>\n",
       "      <td>1</td>\n",
       "    </tr>\n",
       "    <tr>\n",
       "      <th>4</th>\n",
       "      <td>31</td>\n",
       "      <td>65</td>\n",
       "      <td>4</td>\n",
       "      <td>1</td>\n",
       "    </tr>\n",
       "    <tr>\n",
       "      <th>5</th>\n",
       "      <td>33</td>\n",
       "      <td>58</td>\n",
       "      <td>10</td>\n",
       "      <td>1</td>\n",
       "    </tr>\n",
       "    <tr>\n",
       "      <th>6</th>\n",
       "      <td>33</td>\n",
       "      <td>60</td>\n",
       "      <td>0</td>\n",
       "      <td>1</td>\n",
       "    </tr>\n",
       "    <tr>\n",
       "      <th>7</th>\n",
       "      <td>34</td>\n",
       "      <td>59</td>\n",
       "      <td>0</td>\n",
       "      <td>2</td>\n",
       "    </tr>\n",
       "    <tr>\n",
       "      <th>8</th>\n",
       "      <td>34</td>\n",
       "      <td>66</td>\n",
       "      <td>9</td>\n",
       "      <td>2</td>\n",
       "    </tr>\n",
       "    <tr>\n",
       "      <th>9</th>\n",
       "      <td>34</td>\n",
       "      <td>60</td>\n",
       "      <td>1</td>\n",
       "      <td>1</td>\n",
       "    </tr>\n",
       "  </tbody>\n",
       "</table>\n",
       "</div>"
      ],
      "text/plain": [
       "   Age_of_patient  year_of_operation  positive_axillary_nodes  Survival_status\n",
       "0              30                 64                        1                1\n",
       "1              30                 62                        3                1\n",
       "2              30                 65                        0                1\n",
       "3              31                 59                        2                1\n",
       "4              31                 65                        4                1\n",
       "5              33                 58                       10                1\n",
       "6              33                 60                        0                1\n",
       "7              34                 59                        0                2\n",
       "8              34                 66                        9                2\n",
       "9              34                 60                        1                1"
      ]
     },
     "execution_count": 38,
     "metadata": {},
     "output_type": "execute_result"
    }
   ],
   "source": [
    "data = pd.read_csv('mydata/haberman_yeni.csv')\n",
    "data.head(10)"
   ]
  },
  {
   "cell_type": "code",
   "execution_count": 39,
   "id": "f2be2ab1",
   "metadata": {},
   "outputs": [
    {
     "name": "stdout",
     "output_type": "stream",
     "text": [
      "(299, 4)\n"
     ]
    }
   ],
   "source": [
    "print(data.shape)"
   ]
  },
  {
   "cell_type": "code",
   "execution_count": 40,
   "id": "101e62e3",
   "metadata": {},
   "outputs": [],
   "source": [
    "X = data.drop(\"Survival_status\", axis = 1)\n",
    "y = data[\"Survival_status\"]"
   ]
  },
  {
   "cell_type": "code",
   "execution_count": 41,
   "id": "0e70c1e1",
   "metadata": {},
   "outputs": [],
   "source": [
    "#Normalizasyon Adımı\n",
    "from sklearn.preprocessing import MinMaxScaler\n",
    "op = MinMaxScaler(feature_range = (0,1))\n",
    "X = op.fit_transform(X)"
   ]
  },
  {
   "cell_type": "code",
   "execution_count": 42,
   "id": "1005d238",
   "metadata": {},
   "outputs": [
    {
     "name": "stdout",
     "output_type": "stream",
     "text": [
      "3\n"
     ]
    }
   ],
   "source": [
    "print(X.shape[1])"
   ]
  },
  {
   "cell_type": "code",
   "execution_count": 43,
   "id": "1c69f159",
   "metadata": {},
   "outputs": [],
   "source": [
    "oznitelik_sayisi = X.shape[1]\n",
    "girislerin_boyutu = Input(shape = (oznitelik_sayisi, ))\n",
    "\n",
    "#Kodlanacak Değişkenlerin Sayısı (darboğaz nöron sayısı)\n",
    "darbogaz_boyutu = 2\n",
    "\n",
    "#Encoder (Kodlayıcı) katmanlarınınn tanımlanması\n",
    "kodlayıcı = Dense(3, activation = 'relu')(girislerin_boyutu)\n",
    "kodlayıcı = Dense(3, activation = 'relu')(girislerin_boyutu)\n",
    "\n",
    "#Darboğaz tanımlanması\n",
    "kodlayıcı = Dense(darbogaz_boyutu, activation = 'relu')(kodlayıcı)\n",
    "\n",
    "#Decoder (kod çözücü) katmanlarının tanımlanması\n",
    "kod_cozucu = Dense(3, activation = 'sigmoid')(kodlayıcı)\n",
    "kod_cozucu = Dense(3, activation = 'sigmoid')(kodlayıcı)"
   ]
  },
  {
   "cell_type": "code",
   "execution_count": 44,
   "id": "b5361843",
   "metadata": {},
   "outputs": [],
   "source": [
    "otokodlayici = Model(\n",
    "    inputs = girislerin_boyutu,\n",
    "    outputs = kod_cozucu\n",
    ")"
   ]
  },
  {
   "cell_type": "code",
   "execution_count": 45,
   "id": "b71f02ce",
   "metadata": {},
   "outputs": [
    {
     "data": {
      "image/png": "[encoded data removed]",
      "text/plain": [
       "<IPython.core.display.Image object>"
      ]
     },
     "execution_count": 45,
     "metadata": {},
     "output_type": "execute_result"
    }
   ],
   "source": [
    "import tensorflow as tf\n",
    "tf.keras.utils.plot_model(otokodlayici, \"haberman2703.png\", show_shapes = True, show_layer_names = True)"
   ]
  },
  {
   "cell_type": "code",
   "execution_count": 46,
   "id": "cc957165",
   "metadata": {},
   "outputs": [],
   "source": [
    "otokodlayici.compile(loss = 'mse', optimizer = \"adam\")"
   ]
  },
  {
   "cell_type": "code",
   "execution_count": 47,
   "id": "c31a570a",
   "metadata": {},
   "outputs": [
    {
     "name": "stdout",
     "output_type": "stream",
     "text": [
      "Train on 239 samples, validate on 60 samples\n",
      "Epoch 1/100\n",
      " - 0s - loss: 0.1092 - val_loss: 0.1353\n",
      "Epoch 2/100\n",
      " - 0s - loss: 0.1061 - val_loss: 0.1348\n",
      "Epoch 3/100\n",
      " - 0s - loss: 0.1038 - val_loss: 0.1345\n",
      "Epoch 4/100\n",
      " - 0s - loss: 0.1021 - val_loss: 0.1341\n",
      "Epoch 5/100\n",
      " - 0s - loss: 0.1006 - val_loss: 0.1338\n",
      "Epoch 6/100\n",
      " - 0s - loss: 0.0993 - val_loss: 0.1334\n",
      "Epoch 7/100\n",
      " - 0s - loss: 0.0981 - val_loss: 0.1329\n",
      "Epoch 8/100\n",
      " - 0s - loss: 0.0970 - val_loss: 0.1326\n",
      "Epoch 9/100\n",
      " - 0s - loss: 0.0958 - val_loss: 0.1323\n",
      "Epoch 10/100\n",
      " - 0s - loss: 0.0947 - val_loss: 0.1319\n",
      "Epoch 11/100\n",
      " - 0s - loss: 0.0937 - val_loss: 0.1316\n",
      "Epoch 12/100\n",
      " - 0s - loss: 0.0926 - val_loss: 0.1312\n",
      "Epoch 13/100\n",
      " - 0s - loss: 0.0916 - val_loss: 0.1309\n",
      "Epoch 14/100\n",
      " - 0s - loss: 0.0907 - val_loss: 0.1305\n",
      "Epoch 15/100\n",
      " - 0s - loss: 0.0897 - val_loss: 0.1302\n",
      "Epoch 16/100\n",
      " - 0s - loss: 0.0888 - val_loss: 0.1298\n",
      "Epoch 17/100\n",
      " - 0s - loss: 0.0879 - val_loss: 0.1294\n",
      "Epoch 18/100\n",
      " - 0s - loss: 0.0870 - val_loss: 0.1291\n",
      "Epoch 19/100\n",
      " - 0s - loss: 0.0861 - val_loss: 0.1287\n",
      "Epoch 20/100\n",
      " - 0s - loss: 0.0853 - val_loss: 0.1284\n",
      "Epoch 21/100\n",
      " - 0s - loss: 0.0844 - val_loss: 0.1280\n",
      "Epoch 22/100\n",
      " - 0s - loss: 0.0836 - val_loss: 0.1277\n",
      "Epoch 23/100\n",
      " - 0s - loss: 0.0829 - val_loss: 0.1274\n",
      "Epoch 24/100\n",
      " - 0s - loss: 0.0821 - val_loss: 0.1271\n",
      "Epoch 25/100\n",
      " - 0s - loss: 0.0813 - val_loss: 0.1267\n",
      "Epoch 26/100\n",
      " - 0s - loss: 0.0806 - val_loss: 0.1263\n",
      "Epoch 27/100\n",
      " - 0s - loss: 0.0799 - val_loss: 0.1259\n",
      "Epoch 28/100\n",
      " - 0s - loss: 0.0792 - val_loss: 0.1256\n",
      "Epoch 29/100\n",
      " - 0s - loss: 0.0785 - val_loss: 0.1252\n",
      "Epoch 30/100\n",
      " - 0s - loss: 0.0778 - val_loss: 0.1249\n",
      "Epoch 31/100\n",
      " - 0s - loss: 0.0772 - val_loss: 0.1245\n",
      "Epoch 32/100\n",
      " - 0s - loss: 0.0765 - val_loss: 0.1242\n",
      "Epoch 33/100\n",
      " - 0s - loss: 0.0759 - val_loss: 0.1239\n",
      "Epoch 34/100\n",
      " - 0s - loss: 0.0753 - val_loss: 0.1235\n",
      "Epoch 35/100\n",
      " - 0s - loss: 0.0747 - val_loss: 0.1231\n",
      "Epoch 36/100\n",
      " - 0s - loss: 0.0741 - val_loss: 0.1228\n",
      "Epoch 37/100\n",
      " - 0s - loss: 0.0735 - val_loss: 0.1224\n",
      "Epoch 38/100\n",
      " - 0s - loss: 0.0730 - val_loss: 0.1221\n",
      "Epoch 39/100\n",
      " - 0s - loss: 0.0724 - val_loss: 0.1217\n",
      "Epoch 40/100\n",
      " - 0s - loss: 0.0719 - val_loss: 0.1214\n",
      "Epoch 41/100\n",
      " - 0s - loss: 0.0713 - val_loss: 0.1210\n",
      "Epoch 42/100\n",
      " - 0s - loss: 0.0708 - val_loss: 0.1206\n",
      "Epoch 43/100\n",
      " - 0s - loss: 0.0703 - val_loss: 0.1203\n",
      "Epoch 44/100\n",
      " - 0s - loss: 0.0698 - val_loss: 0.1199\n",
      "Epoch 45/100\n",
      " - 0s - loss: 0.0693 - val_loss: 0.1196\n",
      "Epoch 46/100\n",
      " - 0s - loss: 0.0689 - val_loss: 0.1192\n",
      "Epoch 47/100\n",
      " - 0s - loss: 0.0684 - val_loss: 0.1188\n",
      "Epoch 48/100\n",
      " - 0s - loss: 0.0679 - val_loss: 0.1186\n",
      "Epoch 49/100\n",
      " - 0s - loss: 0.0675 - val_loss: 0.1182\n",
      "Epoch 50/100\n",
      " - 0s - loss: 0.0670 - val_loss: 0.1179\n",
      "Epoch 51/100\n",
      " - 0s - loss: 0.0666 - val_loss: 0.1175\n",
      "Epoch 52/100\n",
      " - 0s - loss: 0.0662 - val_loss: 0.1172\n",
      "Epoch 53/100\n",
      " - 0s - loss: 0.0658 - val_loss: 0.1168\n",
      "Epoch 54/100\n",
      " - 0s - loss: 0.0654 - val_loss: 0.1166\n",
      "Epoch 55/100\n",
      " - 0s - loss: 0.0650 - val_loss: 0.1162\n",
      "Epoch 56/100\n",
      " - 0s - loss: 0.0646 - val_loss: 0.1159\n",
      "Epoch 57/100\n",
      " - 0s - loss: 0.0642 - val_loss: 0.1155\n",
      "Epoch 58/100\n",
      " - 0s - loss: 0.0638 - val_loss: 0.1152\n",
      "Epoch 59/100\n",
      " - 0s - loss: 0.0635 - val_loss: 0.1149\n",
      "Epoch 60/100\n",
      " - 0s - loss: 0.0631 - val_loss: 0.1147\n",
      "Epoch 61/100\n",
      " - 0s - loss: 0.0628 - val_loss: 0.1143\n",
      "Epoch 62/100\n",
      " - 0s - loss: 0.0624 - val_loss: 0.1140\n",
      "Epoch 63/100\n",
      " - 0s - loss: 0.0621 - val_loss: 0.1137\n",
      "Epoch 64/100\n",
      " - 0s - loss: 0.0618 - val_loss: 0.1134\n",
      "Epoch 65/100\n",
      " - 0s - loss: 0.0614 - val_loss: 0.1131\n",
      "Epoch 66/100\n",
      " - 0s - loss: 0.0611 - val_loss: 0.1128\n",
      "Epoch 67/100\n",
      " - 0s - loss: 0.0608 - val_loss: 0.1125\n",
      "Epoch 68/100\n",
      " - 0s - loss: 0.0605 - val_loss: 0.1122\n",
      "Epoch 69/100\n",
      " - 0s - loss: 0.0602 - val_loss: 0.1119\n",
      "Epoch 70/100\n",
      " - 0s - loss: 0.0599 - val_loss: 0.1115\n",
      "Epoch 71/100\n",
      " - 0s - loss: 0.0596 - val_loss: 0.1112\n",
      "Epoch 72/100\n",
      " - 0s - loss: 0.0593 - val_loss: 0.1110\n",
      "Epoch 73/100\n",
      " - 0s - loss: 0.0590 - val_loss: 0.1107\n",
      "Epoch 74/100\n",
      " - 0s - loss: 0.0587 - val_loss: 0.1103\n",
      "Epoch 75/100\n",
      " - 0s - loss: 0.0584 - val_loss: 0.1101\n",
      "Epoch 76/100\n",
      " - 0s - loss: 0.0582 - val_loss: 0.1099\n",
      "Epoch 77/100\n",
      " - 0s - loss: 0.0579 - val_loss: 0.1096\n",
      "Epoch 78/100\n",
      " - 0s - loss: 0.0576 - val_loss: 0.1093\n",
      "Epoch 79/100\n",
      " - 0s - loss: 0.0574 - val_loss: 0.1090\n",
      "Epoch 80/100\n",
      " - 0s - loss: 0.0571 - val_loss: 0.1088\n",
      "Epoch 81/100\n",
      " - 0s - loss: 0.0568 - val_loss: 0.1085\n",
      "Epoch 82/100\n",
      " - 0s - loss: 0.0566 - val_loss: 0.1082\n",
      "Epoch 83/100\n",
      " - 0s - loss: 0.0563 - val_loss: 0.1078\n",
      "Epoch 84/100\n",
      " - 0s - loss: 0.0560 - val_loss: 0.1076\n",
      "Epoch 85/100\n",
      " - 0s - loss: 0.0558 - val_loss: 0.1073\n",
      "Epoch 86/100\n",
      " - 0s - loss: 0.0555 - val_loss: 0.1071\n",
      "Epoch 87/100\n",
      " - 0s - loss: 0.0552 - val_loss: 0.1067\n",
      "Epoch 88/100\n",
      " - 0s - loss: 0.0550 - val_loss: 0.1065\n",
      "Epoch 89/100\n",
      " - 0s - loss: 0.0547 - val_loss: 0.1062\n",
      "Epoch 90/100\n",
      " - 0s - loss: 0.0544 - val_loss: 0.1058\n",
      "Epoch 91/100\n",
      " - 0s - loss: 0.0542 - val_loss: 0.1055\n",
      "Epoch 92/100\n",
      " - 0s - loss: 0.0539 - val_loss: 0.1051\n",
      "Epoch 93/100\n",
      " - 0s - loss: 0.0537 - val_loss: 0.1050\n",
      "Epoch 94/100\n",
      " - 0s - loss: 0.0534 - val_loss: 0.1042\n",
      "Epoch 95/100\n",
      " - 0s - loss: 0.0530 - val_loss: 0.1031\n",
      "Epoch 96/100\n",
      " - 0s - loss: 0.0527 - val_loss: 0.1024\n",
      "Epoch 97/100\n",
      " - 0s - loss: 0.0524 - val_loss: 0.1018\n",
      "Epoch 98/100\n",
      " - 0s - loss: 0.0521 - val_loss: 0.1018\n",
      "Epoch 99/100\n",
      " - 0s - loss: 0.0517 - val_loss: 0.1008\n",
      "Epoch 100/100\n",
      " - 0s - loss: 0.0514 - val_loss: 0.0998\n"
     ]
    }
   ],
   "source": [
    "history = otokodlayici.fit(\n",
    "        X,\n",
    "        X,\n",
    "        epochs = 100,\n",
    "        batch_size = 16,\n",
    "        verbose = 2,\n",
    "        validation_split = 0.2\n",
    ")"
   ]
  },
  {
   "cell_type": "code",
   "execution_count": 48,
   "id": "42d55581",
   "metadata": {},
   "outputs": [
    {
     "data": {
      "image/png": "[encoded data removed]",
      "text/plain": [
       "<Figure size 432x288 with 1 Axes>"
      ]
     },
     "metadata": {
      "needs_background": "light"
     },
     "output_type": "display_data"
    }
   ],
   "source": [
    "plt.plot(history.history[\"loss\"], \"--\")\n",
    "plt.plot(history.history[\"val_loss\"])\n",
    "plt.title(\"Ootokodlayıcı Modelde Eğitim Hatası\")\n",
    "plt.xlabel(\"Devir Sayısı\")\n",
    "plt.ylabel(\"Hatalar\")\n",
    "plt.legend([\"Eğitim\", \"Test\"], loc = \"upper right\")\n",
    "plt.show()"
   ]
  },
  {
   "cell_type": "code",
   "execution_count": 49,
   "id": "0138ac6c",
   "metadata": {},
   "outputs": [],
   "source": [
    "#Yeniden Yapılandırma (reconstruction) hatası"
   ]
  },
  {
   "cell_type": "code",
   "execution_count": 52,
   "id": "ac5e8d97",
   "metadata": {},
   "outputs": [
    {
     "data": {
      "image/png": "[encoded data removed]",
      "text/plain": [
       "<Figure size 432x288 with 1 Axes>"
      ]
     },
     "metadata": {
      "needs_background": "light"
     },
     "output_type": "display_data"
    }
   ],
   "source": [
    "ongoruler = otokodlayici.predict(X)\n",
    "mse = np.mean(np.power(X - ongoruler, 2), axis = 1)\n",
    "\n",
    "#Reconstruction hata grafiği\n",
    "plt.plot(mse, linewidth = 0, label = 'Eğitim', marker = '.')\n",
    "plt.title('Yeniden Yapılandırma Hataları')\n",
    "plt.xlabel('Gözlemler')\n",
    "plt.ylabel('MSE')\n",
    "plt.show()"
   ]
  },
  {
   "cell_type": "code",
   "execution_count": 53,
   "id": "096931fd",
   "metadata": {},
   "outputs": [
    {
     "name": "stdout",
     "output_type": "stream",
     "text": [
      "\n",
      " Eşik Değeri Giriniz: \n",
      "\n",
      "0.17\n"
     ]
    }
   ],
   "source": [
    "print('\\n Eşik Değeri Giriniz: \\n')\n",
    "eşik = float(input())"
   ]
  },
  {
   "cell_type": "code",
   "execution_count": 54,
   "id": "275a0cc5",
   "metadata": {},
   "outputs": [
    {
     "data": {
      "image/png": "[encoded data removed]",
      "text/plain": [
       "<Figure size 432x288 with 1 Axes>"
      ]
     },
     "metadata": {
      "needs_background": "light"
     },
     "output_type": "display_data"
    }
   ],
   "source": [
    "plt.plot(mse, linewidth = 0, label = 'Eğitim', marker = '.')\n",
    "plt.title('Yeniden Yapılandırma Hataları')\n",
    "plt.xlabel('Gözlemler')\n",
    "plt.ylabel('MSE')\n",
    "plt.axhline(y = eşik, color = 'r')\n",
    "plt.show()"
   ]
  },
  {
   "cell_type": "code",
   "execution_count": 55,
   "id": "7bf167e7",
   "metadata": {},
   "outputs": [
    {
     "name": "stdout",
     "output_type": "stream",
     "text": [
      "Anormal değerlerin sayısı :  (1, 4)\n"
     ]
    }
   ],
   "source": [
    "anormal = pd.DataFrame(data[mse > eşik])\n",
    "print(\"Anormal değerlerin sayısı : \", anormal.shape)"
   ]
  },
  {
   "cell_type": "code",
   "execution_count": 56,
   "id": "e93c2d30",
   "metadata": {},
   "outputs": [
    {
     "name": "stdout",
     "output_type": "stream",
     "text": [
      "Anormal Değerler :       Age_of_patient  year_of_operation  positive_axillary_nodes  \\\n",
      "292              72                 58                        0   \n",
      "\n",
      "     Survival_status  \n",
      "292                1  \n"
     ]
    }
   ],
   "source": [
    "print(\"Anormal Değerler : \", anormal)"
   ]
  },
  {
   "cell_type": "code",
   "execution_count": 58,
   "id": "efce8b7e",
   "metadata": {},
   "outputs": [
    {
     "name": "stdout",
     "output_type": "stream",
     "text": [
      "Önceki Veri : (299, 3)\n",
      "Şimdiki Veri : (298, 4)\n"
     ]
    }
   ],
   "source": [
    "anormal_yok = pd.DataFrame(data[mse <= eşik])\n",
    "print(\"Önceki Veri :\", X.shape)\n",
    "print(\"Şimdiki Veri :\", anormal_yok.shape)"
   ]
  },
  {
   "cell_type": "code",
   "execution_count": 60,
   "id": "66a3a78f",
   "metadata": {},
   "outputs": [],
   "source": [
    "çıkış = pd.DataFrame(anormal_yok)\n",
    "çıkış.to_csv(\"mydata/haberman_anomalisiz_yepyeni.csv\", index = False)"
   ]
  },
  {
   "cell_type": "code",
   "execution_count": null,
   "id": "7d2a6a99",
   "metadata": {},
   "outputs": [],
   "source": []
  }
 ],
 "metadata": {
  "kernelspec": {
   "display_name": "Python 3",
   "language": "python",
   "name": "python3"
  },
  "language_info": {
   "codemirror_mode": {
    "name": "ipython",
    "version": 3
   },
   "file_extension": ".py",
   "mimetype": "text/x-python",
   "name": "python",
   "nbconvert_exporter": "python",
   "pygments_lexer": "ipython3",
   "version": "3.6.13"
  }
 },
 "nbformat": 4,
 "nbformat_minor": 5
}
